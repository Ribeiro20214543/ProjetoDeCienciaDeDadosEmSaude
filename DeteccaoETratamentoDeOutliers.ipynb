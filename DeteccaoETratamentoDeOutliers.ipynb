{
 "cells": [
  {
   "cell_type": "code",
   "execution_count": 1,
   "id": "12d6d24d-ee26-496d-a356-597416d6ae17",
   "metadata": {},
   "outputs": [
    {
     "name": "stdout",
     "output_type": "stream",
     "text": [
      "Note: you may need to restart the kernel to use updated packages.\n"
     ]
    }
   ],
   "source": [
    "# Instalar biblioteca watermark para visualização de ambiente e versões de pacotes foram usados no projeto\n",
    "%pip install -q -U watermark"
   ]
  },
  {
   "cell_type": "code",
   "execution_count": 2,
   "id": "a8a812d0-6075-4e1f-887d-60d9975e4cf3",
   "metadata": {},
   "outputs": [],
   "source": [
    "# Importar bibliotecas\n",
    "from datetime import datetime\n",
    "\n",
    "import pandas as pd\n",
    "import numpy as np\n",
    "\n",
    "pd.set_option('future.no_silent_downcasting', True)"
   ]
  },
  {
   "cell_type": "markdown",
   "id": "c8487c9d-6f19-421c-b19f-57bcb7223562",
   "metadata": {},
   "source": [
    "# **Detecção e Tratamento de Outliers**\n",
    "\n",
    "* Detecte outliers usando IQR, boxplot, ou outros métodos e decida como tratá-los."
   ]
  },
  {
   "cell_type": "code",
   "execution_count": 3,
   "id": "0b2d06e8-41c0-4075-b338-6371186f5631",
   "metadata": {},
   "outputs": [],
   "source": [
    "# Carregar base de dados\n",
    "df=pd.read_csv(\"heart_disease_uci_tratado_1.csv\")"
   ]
  },
  {
   "cell_type": "code",
   "execution_count": 4,
   "id": "800de6f5-2ebe-4d55-add0-72ea2789ebe7",
   "metadata": {},
   "outputs": [
    {
     "name": "stdout",
     "output_type": "stream",
     "text": [
      "<class 'pandas.core.frame.DataFrame'>\n",
      "RangeIndex: 920 entries, 0 to 919\n",
      "Data columns (total 14 columns):\n",
      " #   Column    Non-Null Count  Dtype  \n",
      "---  ------    --------------  -----  \n",
      " 0   id        920 non-null    int64  \n",
      " 1   age       920 non-null    int64  \n",
      " 2   sex       920 non-null    object \n",
      " 3   dataset   920 non-null    object \n",
      " 4   cp        920 non-null    object \n",
      " 5   trestbps  920 non-null    float64\n",
      " 6   chol      920 non-null    float64\n",
      " 7   fbs       920 non-null    bool   \n",
      " 8   restecg   920 non-null    object \n",
      " 9   thalch    920 non-null    float64\n",
      " 10  exang     920 non-null    bool   \n",
      " 11  oldpeak   920 non-null    float64\n",
      " 12  slope     920 non-null    object \n",
      " 13  num       920 non-null    int64  \n",
      "dtypes: bool(2), float64(4), int64(3), object(5)\n",
      "memory usage: 88.2+ KB\n"
     ]
    }
   ],
   "source": [
    "df.info()"
   ]
  },
  {
   "cell_type": "markdown",
   "id": "bbe30c35-bbb5-40b3-9e45-c788033d1ddf",
   "metadata": {},
   "source": [
    "## **Método do Intervalo Interquartil (IQR)**\n",
    "A identificação de outliers é essencial pois eles podem distorcer análises e comprometer o desempenho do modelo."
   ]
  },
  {
   "cell_type": "markdown",
   "id": "eb4c4a75-f2e7-4dbb-a13a-8ea117123570",
   "metadata": {},
   "source": [
    "**Cálculo dos limites:**\n",
    "\n",
    "* Limite inferior teórico = Q₁ - 1,5 × IQR\n",
    "\n",
    "* Limite superior teórico = Q₃ + 1,5 × IQR\n",
    "\n",
    "Onde IQR = Q₃ - Q₁ (amplitude interquartil)"
   ]
  },
  {
   "cell_type": "code",
   "execution_count": 5,
   "id": "dab3c417-c659-4825-859d-d7597edd9f87",
   "metadata": {},
   "outputs": [],
   "source": [
    "# Seleciona apenas colunas numéricas para análise\n",
    "numeric_cols = df.select_dtypes(include='number').columns.tolist()"
   ]
  },
  {
   "cell_type": "code",
   "execution_count": 6,
   "id": "5ed5d990-f357-44ec-84e1-11f6feb9db7b",
   "metadata": {},
   "outputs": [],
   "source": [
    "# Função para detectar outliers usando o método IQR\n",
    "def detectar_outliers_iqr(coluna):\n",
    "    Q1 = coluna.quantile(0.25)\n",
    "    Q3 = coluna.quantile(0.75)\n",
    "    IQR = Q3 - Q1\n",
    "    limite_inferior = Q1 - 1.5 * IQR\n",
    "    limite_superior = Q3 + 1.5 * IQR\n",
    "    outliers = coluna[(coluna < limite_inferior) | (coluna > limite_superior)]\n",
    "    return outliers, limite_inferior, limite_superior"
   ]
  },
  {
   "cell_type": "code",
   "execution_count": 7,
   "id": "9bfbbe71-49bc-47fc-b56c-ec47bc0e2be3",
   "metadata": {},
   "outputs": [
    {
     "name": "stdout",
     "output_type": "stream",
     "text": [
      "\n",
      "Coluna: id\n",
      "Limite inferior teórico: -458.50\n",
      "Limite superior teórico: 1379.50\n",
      "Número de outliers: 0\n",
      "Nenhum outlier detectado.\n",
      "\n",
      "Coluna: age\n",
      "Limite inferior teórico: 27.50\n",
      "Limite superior teórico: 79.50\n",
      "Número de outliers: 0\n",
      "Nenhum outlier detectado.\n",
      "\n",
      "Coluna: trestbps\n",
      "Limite inferior teórico: 90.00\n",
      "Limite superior teórico: 170.00\n",
      "Número de outliers: 28\n",
      "Outliers detectados:\n",
      "[172. 180. 200. 174. 178. 192. 180. 178. 180. 190. 180. 180. 180. 180.\n",
      " 200. 180. 180.  80. 180. 200. 185. 200. 180.   0. 178. 172. 180. 190.]\n",
      "\n",
      "Coluna: chol\n",
      "Limite inferior teórico: 43.88\n",
      "Limite superior teórico: 400.88\n",
      "Número de outliers: 185\n",
      "Outliers detectados:\n",
      "[417. 407. 564. 409. 412. 468. 466. 529. 603. 404. 518. 491.   0.   0.\n",
      "   0.   0.   0.   0.   0.   0.   0.   0.   0.   0.   0.   0.   0.   0.\n",
      "   0.   0.   0.   0.   0.   0.   0.   0.   0.   0.   0.   0.   0.   0.\n",
      "   0.   0.   0.   0.   0.   0.   0.   0.   0.   0.   0.   0.   0.   0.\n",
      "   0.   0.   0.   0.   0.   0.   0.   0.   0.   0.   0.   0.   0.   0.\n",
      "   0.   0.   0.   0.   0.   0.   0.   0.   0.   0.   0.   0.   0.   0.\n",
      "   0.   0.   0.   0.   0.   0.   0.   0.   0.   0.   0.   0.   0.   0.\n",
      "   0.   0.   0.   0.   0.   0.   0.   0.   0.   0.   0.   0.   0.   0.\n",
      "   0.   0.   0.   0.   0.   0.   0.   0.   0.   0.   0.   0.   0.   0.\n",
      "   0.   0.   0.   0.   0.   0.   0.   0.   0.   0.   0.   0.   0.   0.\n",
      "   0.   0.   0.   0.   0.   0.   0.   0.   0.   0.   0.   0.   0.   0.\n",
      "   0.   0.   0.   0.   0.   0.   0.   0.   0.   0.   0.   0.   0.   0.\n",
      "   0.   0.   0.   0.   0.   0.   0.   0.   0.   0. 458.   0.   0.   0.\n",
      "   0.   0.   0.]\n",
      "\n",
      "Coluna: thalch\n",
      "Limite inferior teórico: 66.00\n",
      "Limite superior teórico: 210.00\n",
      "Número de outliers: 2\n",
      "Outliers detectados:\n",
      "[60. 63.]\n",
      "\n",
      "Coluna: oldpeak\n",
      "Limite inferior teórico: -2.25\n",
      "Limite superior teórico: 3.75\n",
      "Número de outliers: 16\n",
      "Outliers detectados:\n",
      "[ 6.2  4.   5.6  4.   4.2  4.2  3.8  4.4  4.   4.   5.  -2.6  4.   4.\n",
      "  4.   4. ]\n",
      "\n",
      "Coluna: num\n",
      "Limite inferior teórico: -3.00\n",
      "Limite superior teórico: 5.00\n",
      "Número de outliers: 0\n",
      "Nenhum outlier detectado.\n"
     ]
    }
   ],
   "source": [
    "# Aplicação para todas as colunas numéricas\n",
    "for col in numeric_cols:\n",
    "    outliers, lim_inf, lim_sup = detectar_outliers_iqr(df[col])\n",
    "    print(f\"\\nColuna: {col}\")\n",
    "    print(f\"Limite inferior teórico: {lim_inf:.2f}\")\n",
    "    print(f\"Limite superior teórico: {lim_sup:.2f}\")\n",
    "    print(f\"Número de outliers: {len(outliers)}\")\n",
    "    if len(outliers) > 0:\n",
    "        print(f\"Outliers detectados:\\n{outliers.values}\")\n",
    "    else:\n",
    "        print(\"Nenhum outlier detectado.\")"
   ]
  },
  {
   "cell_type": "markdown",
   "id": "696d88a6-33e3-4017-9af7-59838ab4ad8f",
   "metadata": {},
   "source": [
    "### **Visualização dos dados**"
   ]
  },
  {
   "cell_type": "code",
   "execution_count": 8,
   "id": "dbbd8811-3e2f-4e19-a5bd-5912d8294a09",
   "metadata": {},
   "outputs": [],
   "source": [
    "# Importar bibliotecas para visualização\n",
    "import seaborn as sns\n",
    "import matplotlib.pyplot as plt"
   ]
  },
  {
   "cell_type": "code",
   "execution_count": 9,
   "id": "2d18b7b2-15f5-4b6c-9e3a-1dee50beb5a2",
   "metadata": {},
   "outputs": [],
   "source": [
    "# Define estilo do gráfico\n",
    "sns.set_style(\"whitegrid\")"
   ]
  },
  {
   "cell_type": "code",
   "execution_count": 10,
   "id": "b8472acf-e4aa-4d5f-b943-815a1c1c651c",
   "metadata": {},
   "outputs": [
    {
     "data": {
      "image/png": "[encoded data removed]",
      "text/plain": [
       "<Figure size 800x400 with 1 Axes>"
      ]
     },
     "metadata": {},
     "output_type": "display_data"
    }
   ],
   "source": [
    "# Cria o boxplot da coluna 'trestbps'\n",
    "plt.figure(figsize=(8, 4))\n",
    "sns.boxplot(x=df[\"trestbps\"])\n",
    "plt.title(\"Boxplot da Pressão Arterial em Repouso (trestbps)\")\n",
    "plt.xlabel(\"Pressão Arterial em Repouso (mm Hg)\")\n",
    "plt.show()"
   ]
  },
  {
   "cell_type": "code",
   "execution_count": 11,
   "id": "b3e86da0-ede6-4a66-b1dc-988df826d153",
   "metadata": {},
   "outputs": [
    {
     "data": {
      "image/png": "[encoded data removed]",
      "text/plain": [
       "<Figure size 800x400 with 1 Axes>"
      ]
     },
     "metadata": {},
     "output_type": "display_data"
    }
   ],
   "source": [
    "# Cria o boxplot da coluna 'chol'\n",
    "plt.figure(figsize=(8, 4))\n",
    "sns.boxplot(x=df[\"chol\"])\n",
    "plt.title(\"Boxplot do Colesterol Sérico (chol)\")\n",
    "plt.xlabel(\"Colesterol Sérico (mg/dL)\")\n",
    "plt.show()"
   ]
  },
  {
   "cell_type": "code",
   "execution_count": 12,
   "id": "d506b705-f762-4893-93e9-2b2e6c93728d",
   "metadata": {},
   "outputs": [
    {
     "data": {
      "image/png": "[encoded data removed]",
      "text/plain": [
       "<Figure size 800x400 with 1 Axes>"
      ]
     },
     "metadata": {},
     "output_type": "display_data"
    }
   ],
   "source": [
    "# Boxplot da coluna 'thalch'\n",
    "plt.figure(figsize=(8, 4))\n",
    "sns.boxplot(x=df[\"thalch\"])\n",
    "plt.title(\"Boxplot da Frequência Cardíaca Máxima (thalch)\")\n",
    "plt.xlabel(\"Frequência Cardíaca Máxima (thalch)\")\n",
    "plt.show()"
   ]
  },
  {
   "cell_type": "code",
   "execution_count": 13,
   "id": "1ff05ee0-604c-4091-aa86-f05013e70e81",
   "metadata": {},
   "outputs": [
    {
     "data": {
      "image/png": "[encoded data removed]",
      "text/plain": [
       "<Figure size 800x400 with 1 Axes>"
      ]
     },
     "metadata": {},
     "output_type": "display_data"
    }
   ],
   "source": [
    "# Boxplot da coluna 'oldpeak'\n",
    "plt.figure(figsize=(8, 4))\n",
    "sns.boxplot(x=df[\"oldpeak\"])\n",
    "plt.title(\"Boxplot da Depressão do Segmento ST (oldpeak)\")\n",
    "plt.xlabel(\"Depressão do Segmento ST (oldpeak)\")\n",
    "plt.show()"
   ]
  },
  {
   "cell_type": "markdown",
   "id": "50986ce6-823a-4f54-b679-7fc55e4370bd",
   "metadata": {},
   "source": [
    "## **Análise e Recomendações**\n",
    "\n",
    "**A regra geral é**: **nunca remova um outlier** a menos que você tenha certeza de que é um erro de medição ou de entrada de dados. \n",
    "Outliers podem ser os pontos mais importantes do seu dataset, especialmente em alguns contextos."
   ]
  },
  {
   "cell_type": "markdown",
   "id": "0bdffd79-4344-410a-818b-7c49cf49bf4a",
   "metadata": {},
   "source": [
    "### **Coluna: trestbps (Pressão Arterial em Repouso)**\n",
    "* **Outliers Altos (172 a 200)**: Esses valores são altos, mas são clinicamente plausíveis, especialmente para pacientes que estão sendo investigados por problemas cardíacos. Remover esses dados significaria ignorar os pacientes com hipertensão mais severa, o que poderia enfraquecer um modelo preditivo.\n",
    "* **Outlier 0 e 80**: O valor 80 está abaixo do limite inferior de 90, mas é perfeitamente normal. O valor 0 é impossível para uma pessoa viva. Isso é claramente um erro de entrada ou um código para \"dado ausente\".\n",
    "\n",
    "**Recomendação:**\n",
    "\n",
    "* Manter os valores altos (172-200).\n",
    "* Tratar o valor 0 como um dado ausente. Opções: remover a linha inteira ou, preferencialmente ou substituir o 0 pela média ou mediana da coluna trestbps."
   ]
  },
  {
   "cell_type": "markdown",
   "id": "6b1a62cc-adb0-4113-b018-c1ccf6e0a7a3",
   "metadata": {},
   "source": [
    "### **Coluna: chol (Colesterol)**\n",
    "* **Outliers Altos (404 a 603)**: Níveis de colesterol acima de 400 são muito altos, mas infelizmente possíveis, especialmente em casos de hipercolesterolemia familiar (uma condição genética). Assim como na pressão arterial, esses são provavelmente os casos mais graves e são dados valiosos.\n",
    "* **Outliers 0**: Um nível de colesterol de 0 é clinicamente impossível. O fato de haver muitas ocorrências de 0 indica que este valor foi usado como um substituto para dados ausentes.\n",
    "\n",
    "**Recomendação:**\n",
    "\n",
    "* Manter os valores altos.\n",
    "* Tratar todos os valores 0 como dados ausentes. Devido à grande quantidade (185 outliers, a maioria sendo zeros), remover todas essas linhas enfraqueceria muito seu dataset. A melhor abordagem é a imputação: substituir os zeros pela média ou mediana da coluna chol."
   ]
  },
  {
   "cell_type": "markdown",
   "id": "0da1e854-89d8-4276-9562-eafadf20de57",
   "metadata": {},
   "source": [
    "### **Coluna: thalch (Frequência Cardíaca Máxima)**\n",
    "* **Outliers 60, 63**: O limite inferior calculado foi 66. Esses valores estão muito próximos do limite e são completamente plausíveis como frequência cardíaca máxima, talvez em pacientes mais velhos ou com condições específicas. \n",
    "\n",
    "**Recomendação:**\n",
    "\n",
    "* Manter esses valores. Eles não são extremos e são clinicamente realistas."
   ]
  },
  {
   "cell_type": "markdown",
   "id": "c8ac43fe-eaf1-442d-9b9e-e58eb87e38e2",
   "metadata": {},
   "source": [
    "### **Coluna: oldpeak (Depressão do Segmento ST)**\n",
    "* **Outliers Altos (3.8 a 6.2)**: Um valor alto de oldpeak é um forte indicador de isquemia induzida por exercício e, portanto, um forte preditor de doença cardíaca. Estes são possivelmente os dados mais importantes da coluna.\n",
    "* **Outlier -2.6**: Um oldpeak negativo é incomum (representa uma elevação do segmento ST em vez de depressão), mas pode ocorrer e ter significado clínico.\n",
    "\n",
    "**Recomendação**:\n",
    "\n",
    "* Manter todos esses valores. Eles representam informações clínicas cruciais sobre os casos mais severos ou atípicos. Removê-los prejudicaria gravemente a análise."
   ]
  },
  {
   "cell_type": "markdown",
   "id": "77c72ab6-502d-4854-be9c-fc8a6303e9c5",
   "metadata": {},
   "source": [
    "## **Tratamento de Outliers**"
   ]
  },
  {
   "cell_type": "code",
   "execution_count": 14,
   "id": "c0e1f8ed-8ff5-4156-a8e9-435ff45b92c1",
   "metadata": {},
   "outputs": [
    {
     "name": "stdout",
     "output_type": "stream",
     "text": [
      "--- ANTES DO TRATAMENTO ---\n",
      "Valores '0' em 'trestbps': 1\n",
      "Valores '0' em 'chol': 172\n",
      "\n",
      "Estatísticas descritivas de 'trestbps':\n",
      " count    920.000000\n",
      "mean     131.995652\n",
      "std       18.451300\n",
      "min        0.000000\n",
      "25%      120.000000\n",
      "50%      130.000000\n",
      "75%      140.000000\n",
      "max      200.000000\n",
      "Name: trestbps, dtype: float64\n",
      "\n",
      "Estatísticas descritivas de 'chol':\n",
      " count    920.000000\n",
      "mean     199.908696\n",
      "std      109.040171\n",
      "min        0.000000\n",
      "25%      177.750000\n",
      "50%      223.000000\n",
      "75%      267.000000\n",
      "max      603.000000\n",
      "Name: chol, dtype: float64\n"
     ]
    }
   ],
   "source": [
    "print(\"--- ANTES DO TRATAMENTO ---\")\n",
    "print(\"Valores '0' em 'trestbps':\", (df['trestbps'] == 0).sum())\n",
    "print(\"Valores '0' em 'chol':\", (df['chol'] == 0).sum())\n",
    "print(\"\\nEstatísticas descritivas de 'trestbps':\\n\", df['trestbps'].describe())\n",
    "print(\"\\nEstatísticas descritivas de 'chol':\\n\", df['chol'].describe())"
   ]
  },
  {
   "cell_type": "code",
   "execution_count": 15,
   "id": "6a452405-4165-444f-b737-3bc73887d4a2",
   "metadata": {},
   "outputs": [],
   "source": [
    "# Substituir 0 por NaN (Not a Number) nas colunas 'trestbps' e 'chol'\n",
    "df.loc[df['trestbps'] == 0, 'trestbps'] = np.nan\n",
    "df.loc[df['chol'] == 0, 'chol'] = np.nan"
   ]
  },
  {
   "cell_type": "code",
   "execution_count": 16,
   "id": "184cd75e-2af4-4ce5-81b4-d1de1a4f9b1d",
   "metadata": {},
   "outputs": [
    {
     "name": "stdout",
     "output_type": "stream",
     "text": [
      "Mediana calculada para 'trestbps' (ignorando zeros): 130.0\n",
      "Mediana calculada para 'chol' (ignorando zeros): 236.0\n"
     ]
    }
   ],
   "source": [
    "# Calcular a mediana de cada coluna (ignorando os NaNs)\n",
    "median_trestbps = df['trestbps'].median()\n",
    "median_chol = df['chol'].median()\n",
    "print(f\"Mediana calculada para 'trestbps' (ignorando zeros): {median_trestbps}\")\n",
    "print(f\"Mediana calculada para 'chol' (ignorando zeros): {median_chol}\")"
   ]
  },
  {
   "cell_type": "code",
   "execution_count": 17,
   "id": "97ebe0d2-aa0e-487a-ad4c-fa8504dfa719",
   "metadata": {},
   "outputs": [],
   "source": [
    "# Preencher os valores NaN com a mediana calculada\n",
    "df['trestbps'] = df['trestbps'].fillna(median_trestbps)\n",
    "df['chol'] = df['chol'].fillna(median_chol)"
   ]
  },
  {
   "cell_type": "code",
   "execution_count": 18,
   "id": "bd691fe1-cb29-454f-9619-efa8aa0d6d91",
   "metadata": {},
   "outputs": [
    {
     "name": "stdout",
     "output_type": "stream",
     "text": [
      "\n",
      "--- DEPOIS DO TRATAMENTO ---\n",
      "Valores '0' em 'trestbps': 0\n",
      "Valores '0' em 'chol': 0\n",
      "Valores nulos em 'trestbps': 0\n",
      "Valores nulos em 'chol': 0\n",
      "\n",
      "Novas estatísticas descritivas de 'trestbps':\n",
      " count    920.000000\n",
      "mean     132.136957\n",
      "std       17.929761\n",
      "min       80.000000\n",
      "25%      120.000000\n",
      "50%      130.000000\n",
      "75%      140.000000\n",
      "max      200.000000\n",
      "Name: trestbps, dtype: float64\n",
      "\n",
      "Novas estatísticas descritivas de 'chol':\n",
      " count    920.000000\n",
      "mean     244.030435\n",
      "std       52.010955\n",
      "min       85.000000\n",
      "25%      217.750000\n",
      "50%      236.000000\n",
      "75%      267.000000\n",
      "max      603.000000\n",
      "Name: chol, dtype: float64\n"
     ]
    }
   ],
   "source": [
    "print(\"\\n--- DEPOIS DO TRATAMENTO ---\")\n",
    "print(\"Valores '0' em 'trestbps':\", (df['trestbps'] == 0).sum())\n",
    "print(\"Valores '0' em 'chol':\", (df['chol'] == 0).sum())\n",
    "print(\"Valores nulos em 'trestbps':\", df['trestbps'].isnull().sum())\n",
    "print(\"Valores nulos em 'chol':\", df['chol'].isnull().sum())\n",
    "print(\"\\nNovas estatísticas descritivas de 'trestbps':\\n\", df['trestbps'].describe())\n",
    "print(\"\\nNovas estatísticas descritivas de 'chol':\\n\", df['chol'].describe())"
   ]
  },
  {
   "cell_type": "markdown",
   "id": "4f7a2693-f5d9-4a26-bf44-bdc765bb88b4",
   "metadata": {},
   "source": [
    "### **Salvar dataset tratado**"
   ]
  },
  {
   "cell_type": "code",
   "execution_count": 19,
   "id": "bd27f8b8-27e3-42ee-bdd2-3c00253522af",
   "metadata": {},
   "outputs": [
    {
     "name": "stdout",
     "output_type": "stream",
     "text": [
      "<class 'pandas.core.frame.DataFrame'>\n",
      "RangeIndex: 920 entries, 0 to 919\n",
      "Data columns (total 14 columns):\n",
      " #   Column    Non-Null Count  Dtype  \n",
      "---  ------    --------------  -----  \n",
      " 0   id        920 non-null    int64  \n",
      " 1   age       920 non-null    int64  \n",
      " 2   sex       920 non-null    object \n",
      " 3   dataset   920 non-null    object \n",
      " 4   cp        920 non-null    object \n",
      " 5   trestbps  920 non-null    float64\n",
      " 6   chol      920 non-null    float64\n",
      " 7   fbs       920 non-null    bool   \n",
      " 8   restecg   920 non-null    object \n",
      " 9   thalch    920 non-null    float64\n",
      " 10  exang     920 non-null    bool   \n",
      " 11  oldpeak   920 non-null    float64\n",
      " 12  slope     920 non-null    object \n",
      " 13  num       920 non-null    int64  \n",
      "dtypes: bool(2), float64(4), int64(3), object(5)\n",
      "memory usage: 88.2+ KB\n"
     ]
    }
   ],
   "source": [
    "df.info()"
   ]
  },
  {
   "cell_type": "code",
   "execution_count": 20,
   "id": "b8a15e13-f53a-4611-bfd7-ad1618c97459",
   "metadata": {},
   "outputs": [],
   "source": [
    "# Inicializar df_final como uma cópia de df\n",
    "df_final = df.copy()"
   ]
  },
  {
   "cell_type": "code",
   "execution_count": 21,
   "id": "b30fb439-1047-49d6-9827-b7c08ca00335",
   "metadata": {},
   "outputs": [
    {
     "name": "stdout",
     "output_type": "stream",
     "text": [
      "DataFrame foi salvo com sucesso no arquivo: 'heart_disease_uci_tratado_2.csv'\n"
     ]
    }
   ],
   "source": [
    "# Definir o nome do arquivo de saída\n",
    "nome_do_arquivo = 'heart_disease_uci_tratado_2.csv'\n",
    "\n",
    "# Salvar o DataFrame em CSV, sem o índice e com codificação UTF-8\n",
    "df_final.to_csv(nome_do_arquivo, index=False, encoding='utf-8')\n",
    "\n",
    "# 3. Imprimir uma mensagem de confirmação\n",
    "print(f\"DataFrame foi salvo com sucesso no arquivo: '{nome_do_arquivo}'\")"
   ]
  },
  {
   "cell_type": "code",
   "execution_count": 22,
   "id": "6c4b43fb-6843-4dbe-a7db-305713d44a50",
   "metadata": {},
   "outputs": [],
   "source": [
    "# Carregando a extensão watermark\n",
    "%reload_ext watermark"
   ]
  },
  {
   "cell_type": "code",
   "execution_count": 23,
   "id": "7c9554e1-10a1-49c3-a1a4-406f0d196dd2",
   "metadata": {},
   "outputs": [
    {
     "name": "stdout",
     "output_type": "stream",
     "text": [
      "Author: Patrick F. R. Ribeiro\n",
      "\n",
      "Python implementation: CPython\n",
      "Python version       : 3.13.5\n",
      "IPython version      : 8.30.0\n",
      "\n",
      "Compiler    : MSC v.1929 64 bit (AMD64)\n",
      "OS          : Windows\n",
      "Release     : 11\n",
      "Machine     : AMD64\n",
      "Processor   : Intel64 Family 6 Model 140 Stepping 1, GenuineIntel\n",
      "CPU cores   : 8\n",
      "Architecture: 64bit\n",
      "\n",
      "numpy     : 2.3.1\n",
      "matplotlib: 3.10.0\n",
      "pandas    : 2.2.3\n",
      "seaborn   : 0.13.2\n",
      "\n"
     ]
    }
   ],
   "source": [
    "# Imprimir\n",
    "# -a (autor do projeto)\n",
    "# -d (data)\n",
    "# -t (hora)\n",
    "# -v (versões do Python e do IPython)\n",
    "# -m (informações sobre a máquina (hardware e sistema operacional))\n",
    "#--iversions (versões de pacotes importadas (import))\n",
    "%watermark -n -a \"Patrick F. R. Ribeiro\" -d -t -v -m --iversions"
   ]
  }
 ],
 "metadata": {
  "kernelspec": {
   "display_name": "Python 3 (ipykernel)",
   "language": "python",
   "name": "python3"
  },
  "language_info": {
   "codemirror_mode": {
    "name": "ipython",
    "version": 3
   },
   "file_extension": ".py",
   "mimetype": "text/x-python",
   "name": "python",
   "nbconvert_exporter": "python",
   "pygments_lexer": "ipython3",
   "version": "3.13.5"
  }
 },
 "nbformat": 4,
 "nbformat_minor": 5
}
