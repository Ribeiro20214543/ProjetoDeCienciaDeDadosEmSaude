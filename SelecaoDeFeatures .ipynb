{
 "cells": [
  {
   "cell_type": "code",
   "execution_count": 1,
   "id": "80bcc60f-0007-44cd-b061-13c1f94912db",
   "metadata": {},
   "outputs": [],
   "source": [
    "# Instalar biblioteca watermark para visualização de ambiente e versões de pacotes foram usados no projeto\n",
    "# %pip install -q -U watermark"
   ]
  },
  {
   "cell_type": "code",
   "execution_count": 2,
   "id": "ff34469b-0169-4e4e-900d-7c9359e59e37",
   "metadata": {},
   "outputs": [],
   "source": [
    "# Importar bibliotecas\n",
    "from datetime import datetime\n",
    "\n",
    "import pandas as pd\n",
    "import numpy as np\n",
    "import seaborn as sns\n",
    "import matplotlib.pyplot as plt\n",
    "import scipy.stats as stats\n",
    "from scipy.stats import pearsonr, chi2_contingency\n",
    "\n",
    "pd.set_option('future.no_silent_downcasting', True)"
   ]
  },
  {
   "cell_type": "markdown",
   "id": "cb81ad60-5006-4cba-9257-e986db435787",
   "metadata": {},
   "source": [
    "# Seleção de Features  \n",
    "\n",
    "* Escolher variáveis relevantes"
   ]
  },
  {
   "cell_type": "code",
   "execution_count": 3,
   "id": "d5db6f80-0720-4a56-bb8b-4c8a7032195b",
   "metadata": {},
   "outputs": [],
   "source": [
    "# Carregar base de dados\n",
    "df=pd.read_csv(\"heart_disease_uci_tratado_3.csv\")"
   ]
  },
  {
   "cell_type": "code",
   "execution_count": 4,
   "id": "b2349ee3-6640-4134-84a5-ff98474ea181",
   "metadata": {},
   "outputs": [
    {
     "name": "stdout",
     "output_type": "stream",
     "text": [
      "<class 'pandas.core.frame.DataFrame'>\n",
      "RangeIndex: 920 entries, 0 to 919\n",
      "Data columns (total 15 columns):\n",
      " #   Column    Non-Null Count  Dtype  \n",
      "---  ------    --------------  -----  \n",
      " 0   id        920 non-null    int64  \n",
      " 1   age       920 non-null    int64  \n",
      " 2   sex       920 non-null    object \n",
      " 3   dataset   920 non-null    object \n",
      " 4   cp        920 non-null    object \n",
      " 5   trestbps  920 non-null    float64\n",
      " 6   chol      920 non-null    float64\n",
      " 7   fbs       920 non-null    bool   \n",
      " 8   restecg   920 non-null    object \n",
      " 9   thalch    920 non-null    float64\n",
      " 10  exang     920 non-null    bool   \n",
      " 11  oldpeak   920 non-null    float64\n",
      " 12  slope     920 non-null    object \n",
      " 13  num       920 non-null    int64  \n",
      " 14  num_reag  920 non-null    int64  \n",
      "dtypes: bool(2), float64(4), int64(4), object(5)\n",
      "memory usage: 95.4+ KB\n"
     ]
    }
   ],
   "source": [
    "df.info()"
   ]
  },
  {
   "cell_type": "code",
   "execution_count": 5,
   "id": "3bdd50b4-3000-4bc9-b7d2-25baa5d35f89",
   "metadata": {},
   "outputs": [
    {
     "name": "stdout",
     "output_type": "stream",
     "text": [
      "Variáveis Numéricas: ['id', 'age', 'trestbps', 'chol', 'thalch', 'oldpeak', 'num', 'num_reag']\n",
      "\n",
      "Variáveis Categóricas: ['sex', 'dataset', 'cp', 'fbs', 'restecg', 'exang', 'slope']\n"
     ]
    }
   ],
   "source": [
    "# Separar variáveis numéricas e categóricas\n",
    "variaveis_numericas = df.select_dtypes(include=[\"int64\", \"float64\"]).columns.tolist()\n",
    "variaveis_categoricas = df.select_dtypes(include=[\"object\", \"category\", \"bool\"]).columns.tolist()\n",
    "\n",
    "print(\"Variáveis Numéricas:\", variaveis_numericas)\n",
    "\n",
    "print(\"\\nVariáveis Categóricas:\", variaveis_categoricas)"
   ]
  },
  {
   "cell_type": "markdown",
   "id": "9b3e98d7-4780-4bf4-8599-b68b1adb4dd4",
   "metadata": {},
   "source": [
    "### Análise de Correlação (Numéricas): \n",
    "* Testar de correlação de Pearson para medir a relação linear entre as variáveis numéricas e a variável alvo (num_reag)."
   ]
  },
  {
   "cell_type": "code",
   "execution_count": 6,
   "id": "9ff91cee-effa-4969-8a41-9e6432eb8d55",
   "metadata": {},
   "outputs": [],
   "source": [
    "# Lista de variáveis numéricas \n",
    "variaveis_numericas = [\"age\", \"trestbps\", \"chol\", \"thalch\", \"oldpeak\"]"
   ]
  },
  {
   "cell_type": "code",
   "execution_count": 7,
   "id": "a8d30c42-bc19-4981-8126-bc00782a1658",
   "metadata": {},
   "outputs": [],
   "source": [
    "# Dicionário para armazenar resultados\n",
    "resultados = []\n",
    "\n",
    "# Loop para calcular correlação com a variável alvo\n",
    "for var in variaveis_numericas:\n",
    "    coef, p_valor = pearsonr(df[var], df[\"num_reag\"])\n",
    "    resultados.append({\"Variável\": var, \n",
    "                       \"Coef_Pearson\": round(coef, 3), \n",
    "                       \"p_valor\": round(p_valor, 4)})"
   ]
  },
  {
   "cell_type": "code",
   "execution_count": 8,
   "id": "b878fe41-9f14-4208-9e61-839d106237a9",
   "metadata": {},
   "outputs": [
    {
     "name": "stdout",
     "output_type": "stream",
     "text": [
      "Correlação de Pearson com a variável alvo (num_reg):\n",
      "   Variável  Coef_Pearson  p_valor\n",
      "0       age         0.283   0.0000\n",
      "1  trestbps         0.111   0.0007\n",
      "2      chol         0.084   0.0107\n",
      "3    thalch        -0.382   0.0000\n",
      "4   oldpeak         0.366   0.0000\n"
     ]
    }
   ],
   "source": [
    "# Converter em DataFrame\n",
    "df_corr = pd.DataFrame(resultados)\n",
    "\n",
    "print(\"Correlação de Pearson com a variável alvo (num_reg):\")\n",
    "print(df_corr)"
   ]
  },
  {
   "cell_type": "markdown",
   "id": "712f31bc-b3c8-42c2-a98f-86557ad65a72",
   "metadata": {},
   "source": [
    "**Conclusão**\n",
    "* **As Mais Importantes: oldpeak, thalch e age** são as variáveis mais fortes e confiáveis para prever a doença cardíaca, com base na correlação linear.\n",
    "* **Pouco Importante: trestbps** tem uma relação fraca, mas real.\n",
    "* **Não Importante (Neste Teste): chol** não mostrou uma relação linear estatisticamente significante com a doença cardíaca neste conjunto de dados."
   ]
  },
  {
   "cell_type": "markdown",
   "id": "76569962-58bf-4727-9ad2-88ba929de52b",
   "metadata": {},
   "source": [
    "### Teste Qui-Quadrado (Categóricas)\n",
    "* Aplicar o teste Qui-quadrado (χ2) para avaliar a dependência entre as variáveis categóricas e a variável alvo (num_reag)."
   ]
  },
  {
   "cell_type": "code",
   "execution_count": 9,
   "id": "a3c50062-7151-44c3-862f-2f51a86d4fee",
   "metadata": {},
   "outputs": [],
   "source": [
    "# Lista de variáveis categóricas\n",
    "variaveis_categoricas = [\"sex\", \"dataset\", \"cp\", \"fbs\", \"restecg\", \"exang\", \"slope\"]"
   ]
  },
  {
   "cell_type": "code",
   "execution_count": 10,
   "id": "f4dfe129-335f-4d50-8509-bb1b797b573c",
   "metadata": {},
   "outputs": [],
   "source": [
    "# Armazenar resultados\n",
    "resultados = []\n",
    "\n",
    "for var in variaveis_categoricas:\n",
    "    tabela_contingencia = pd.crosstab(df[var], df[\"num_reag\"])\n",
    "    chi2, p, dof, expected = stats.chi2_contingency(tabela_contingencia)\n",
    "    \n",
    "    resultados.append({\n",
    "        \"Variável\": var,\n",
    "        \"Qui-Quadrado\": round(chi2, 3),\n",
    "        \"GL\": dof,\n",
    "        \"p_valor\": round(p, 4)\n",
    "    })"
   ]
  },
  {
   "cell_type": "code",
   "execution_count": 11,
   "id": "30799dab-735e-42d6-b71f-73b72fd5a939",
   "metadata": {},
   "outputs": [
    {
     "name": "stdout",
     "output_type": "stream",
     "text": [
      "Teste Qui-Quadrado de Independência (variáveis categóricas vs num_reag):\n",
      "  Variável  Qui-Quadrado  GL  p_valor\n",
      "0      sex        85.361   1   0.0000\n",
      "1  dataset       157.060   3   0.0000\n",
      "2       cp       268.346   3   0.0000\n",
      "3      fbs        10.145   1   0.0014\n",
      "4  restecg        11.428   2   0.0033\n",
      "5    exang       171.167   1   0.0000\n",
      "6    slope        80.064   2   0.0000\n"
     ]
    }
   ],
   "source": [
    "# Converter para DataFrame\n",
    "df_chi2 = pd.DataFrame(resultados)\n",
    "\n",
    "print(\"Teste Qui-Quadrado de Independência (variáveis categóricas vs num_reag):\")\n",
    "print(df_chi2)"
   ]
  },
  {
   "cell_type": "markdown",
   "id": "452e4c03-e5b3-4602-ad9a-7d181b0948c4",
   "metadata": {},
   "source": [
    "Para entender a tabela, precisamos conhecer a hipótese do teste:\n",
    "\n",
    "* **Hipótese Nula (H₀)**: A variável em questão e a doença cardíaca são independentes. Ou seja, saber a categoria de um paciente (ex: seu sexo) não ajuda em nada a prever se ele tem a doença.\n",
    "* **Hipótese Alternativa (H₁)**: As variáveis são dependentes. Existe uma associação entre elas.\n",
    "\n",
    "A coluna mais importante para a nossa conclusão é o p_valor. A regra é a mesma da análise anterior:\n",
    "\n",
    "* **Se p_valor < 0.05, rejeitamos a Hipótese Nula**. Isso significa que a associação observada é estatisticamente significante e a variável é relevante.\n",
    "* **Se p_valor >= 0.05, não podemos rejeitar a Hipótese Nula**. A variável é considerada independente do resultado e, portanto, não é relevante."
   ]
  },
  {
   "cell_type": "markdown",
   "id": "bfe2801c-3f79-411d-8f48-9611ca25a162",
   "metadata": {},
   "source": [
    "**Análise dos Resultados**\n",
    "\n",
    "* **Todas as suas variáveis categóricas (sex, dataset, cp, fbs, restecg, exang, slope)** têm uma associação estatisticamente significante com a presença de doença cardíaca."
   ]
  },
  {
   "cell_type": "markdown",
   "id": "66cb3ce0-3b11-4620-b583-ea4a132c5286",
   "metadata": {},
   "source": [
    "## Ranking das variáveis mais relevantes para prever doença cardíaca"
   ]
  },
  {
   "cell_type": "code",
   "execution_count": 12,
   "id": "2015880c-1b13-4212-a40d-a045c81dba26",
   "metadata": {},
   "outputs": [],
   "source": [
    "# Lista para guardar resultados\n",
    "resultados = []\n",
    "\n",
    "# --- Correlação de Pearson (numéricas) ---\n",
    "for var in variaveis_numericas:\n",
    "    coef, p_valor = pearsonr(df[var], df[\"num_reag\"])\n",
    "    resultados.append({\n",
    "        \"Variável\": var,\n",
    "        \"Tipo\": \"Numérica\",\n",
    "        \"Estatística\": \"Coef_Pearson\",\n",
    "        \"Valor\": round(coef, 3),\n",
    "        \"Forca\": abs(coef),\n",
    "        \"p_valor\": round(p_valor, 4)\n",
    "    })\n",
    "\n",
    "# --- Qui-quadrado (categóricas) ---\n",
    "for var in variaveis_categoricas:\n",
    "    tabela = pd.crosstab(df[var], df[\"num_reag\"])\n",
    "    chi2, p, dof, expected = chi2_contingency(tabela)\n",
    "    resultados.append({\n",
    "        \"Variável\": var,\n",
    "        \"Tipo\": \"Categórica\",\n",
    "        \"Estatística\": \"Qui-Quadrado\",\n",
    "        \"Valor\": round(chi2, 3),\n",
    "        \"Forca\": chi2,\n",
    "        \"p_valor\": round(p, 4)\n",
    "    })"
   ]
  },
  {
   "cell_type": "code",
   "execution_count": 13,
   "id": "4005866e-b1ae-40e8-ae00-ed48e7545c94",
   "metadata": {},
   "outputs": [
    {
     "name": "stdout",
     "output_type": "stream",
     "text": [
      "Ranking das variáveis mais relevantes para prever doença cardíaca:\n",
      "    Variável        Tipo   Estatística    Valor       Forca  p_valor\n",
      "0         cp  Categórica  Qui-Quadrado  268.346  268.345747   0.0000\n",
      "1      exang  Categórica  Qui-Quadrado  171.167  171.166826   0.0000\n",
      "2    dataset  Categórica  Qui-Quadrado  157.060  157.060493   0.0000\n",
      "3        sex  Categórica  Qui-Quadrado   85.361   85.361239   0.0000\n",
      "4      slope  Categórica  Qui-Quadrado   80.064   80.064364   0.0000\n",
      "5    restecg  Categórica  Qui-Quadrado   11.428   11.427811   0.0033\n",
      "6        fbs  Categórica  Qui-Quadrado   10.145   10.144865   0.0014\n",
      "7     thalch    Numérica  Coef_Pearson   -0.382    0.381864   0.0000\n",
      "8    oldpeak    Numérica  Coef_Pearson    0.366    0.366138   0.0000\n",
      "9        age    Numérica  Coef_Pearson    0.283    0.282700   0.0000\n",
      "10  trestbps    Numérica  Coef_Pearson    0.111    0.111305   0.0007\n",
      "11      chol    Numérica  Coef_Pearson    0.084    0.084140   0.0107\n"
     ]
    }
   ],
   "source": [
    "# Converter em DataFrame e ordenar pela força\n",
    "ranking = pd.DataFrame(resultados).sort_values(by=\"Forca\", ascending=False).reset_index(drop=True)\n",
    "\n",
    "# Exibir ranking\n",
    "print(\"Ranking das variáveis mais relevantes para prever doença cardíaca:\")\n",
    "print(ranking)"
   ]
  },
  {
   "cell_type": "markdown",
   "id": "8f149a13-9529-4590-829c-742f016fa582",
   "metadata": {},
   "source": [
    "## Conclusão\n",
    "Em resumo, os resultados sugerem que fatores relacionados à resposta ao esforço físico (thalch, oldpeak, exang, slope, cp), além de idade e sexo, têm papel preditivo mais importante na detecção de doença cardíaca."
   ]
  },
  {
   "cell_type": "code",
   "execution_count": 14,
   "id": "a743d4c7-a01a-426f-af7e-34c94a8b55d3",
   "metadata": {},
   "outputs": [],
   "source": [
    "# Carregando a extensão watermark\n",
    "%reload_ext watermark"
   ]
  },
  {
   "cell_type": "code",
   "execution_count": 15,
   "id": "b868d4b1-4e83-4b54-b0af-a4b856253bea",
   "metadata": {},
   "outputs": [
    {
     "name": "stdout",
     "output_type": "stream",
     "text": [
      "Author: Patrick F. R. Ribeiro\n",
      "\n",
      "Python implementation: CPython\n",
      "Python version       : 3.13.5\n",
      "IPython version      : 8.30.0\n",
      "\n",
      "Compiler    : MSC v.1929 64 bit (AMD64)\n",
      "OS          : Windows\n",
      "Release     : 11\n",
      "Machine     : AMD64\n",
      "Processor   : Intel64 Family 6 Model 140 Stepping 1, GenuineIntel\n",
      "CPU cores   : 8\n",
      "Architecture: 64bit\n",
      "\n",
      "scipy     : 1.15.3\n",
      "seaborn   : 0.13.2\n",
      "matplotlib: 3.10.0\n",
      "pandas    : 2.2.3\n",
      "numpy     : 1.26.4\n",
      "\n"
     ]
    }
   ],
   "source": [
    "# Imprimir\n",
    "# -a (autor do projeto)\n",
    "# -d (data)\n",
    "# -t (hora)\n",
    "# -v (versões do Python e do IPython)\n",
    "# -m (informações sobre a máquina (hardware e sistema operacional))\n",
    "#--iversions (versões de pacotes importadas (import))\n",
    "%watermark -n -a \"Patrick F. R. Ribeiro\" -d -t -v -m --iversions"
   ]
  }
 ],
 "metadata": {
  "kernelspec": {
   "display_name": "Python 3 (ipykernel)",
   "language": "python",
   "name": "python3"
  },
  "language_info": {
   "codemirror_mode": {
    "name": "ipython",
    "version": 3
   },
   "file_extension": ".py",
   "mimetype": "text/x-python",
   "name": "python",
   "nbconvert_exporter": "python",
   "pygments_lexer": "ipython3",
   "version": "3.13.5"
  }
 },
 "nbformat": 4,
 "nbformat_minor": 5
}
