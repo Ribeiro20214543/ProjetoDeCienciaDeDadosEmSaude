{
 "cells": [
  {
   "cell_type": "code",
   "execution_count": 1,
   "id": "4229d8e8-e9c3-4d85-b2a4-8cb41ffa1fa9",
   "metadata": {},
   "outputs": [],
   "source": [
    "# Instalar biblioteca watermark para visualização de ambiente e versões de pacotes foram usados no projeto\n",
    "#%pip install -q -U watermark"
   ]
  },
  {
   "cell_type": "code",
   "execution_count": 2,
   "id": "2f191b1a-8823-4038-8743-64c022f1ab90",
   "metadata": {},
   "outputs": [],
   "source": [
    "#%pip install -q -U imbalanced-learn"
   ]
  },
  {
   "cell_type": "code",
   "execution_count": 3,
   "id": "e44e1b51-3175-406e-8f97-c3c69b8b570f",
   "metadata": {},
   "outputs": [],
   "source": [
    "# Importar bibliotecas\n",
    "from datetime import datetime\n",
    "\n",
    "import pandas as pd\n",
    "import seaborn as sns\n",
    "import matplotlib.pyplot as plt\n",
    "from collections import Counter\n",
    "from sklearn.model_selection import train_test_split\n",
    "from imblearn.over_sampling import SMOTE\n",
    "\n",
    "pd.set_option('future.no_silent_downcasting', True)"
   ]
  },
  {
   "cell_type": "markdown",
   "id": "007ff221-030c-4917-a09c-22407e060423",
   "metadata": {},
   "source": [
    "# **Avaliação do Balanceamento de Classes**\n",
    "* Verifique se as classes do target estão equilibradas."
   ]
  },
  {
   "cell_type": "code",
   "execution_count": 4,
   "id": "98d22927-24aa-4d3c-989e-cd56890a4901",
   "metadata": {},
   "outputs": [],
   "source": [
    "# Carregar base de dados\n",
    "df=pd.read_csv(\"heart_disease_uci_tratado_2.csv\")"
   ]
  },
  {
   "cell_type": "code",
   "execution_count": 5,
   "id": "66665a1a-ffa4-4516-b0d5-c2742c8fb5af",
   "metadata": {},
   "outputs": [
    {
     "name": "stdout",
     "output_type": "stream",
     "text": [
      "<class 'pandas.core.frame.DataFrame'>\n",
      "RangeIndex: 920 entries, 0 to 919\n",
      "Data columns (total 14 columns):\n",
      " #   Column    Non-Null Count  Dtype  \n",
      "---  ------    --------------  -----  \n",
      " 0   id        920 non-null    int64  \n",
      " 1   age       920 non-null    int64  \n",
      " 2   sex       920 non-null    object \n",
      " 3   dataset   920 non-null    object \n",
      " 4   cp        920 non-null    object \n",
      " 5   trestbps  920 non-null    float64\n",
      " 6   chol      920 non-null    float64\n",
      " 7   fbs       920 non-null    bool   \n",
      " 8   restecg   920 non-null    object \n",
      " 9   thalch    920 non-null    float64\n",
      " 10  exang     920 non-null    bool   \n",
      " 11  oldpeak   920 non-null    float64\n",
      " 12  slope     920 non-null    object \n",
      " 13  num       920 non-null    int64  \n",
      "dtypes: bool(2), float64(4), int64(3), object(5)\n",
      "memory usage: 88.2+ KB\n"
     ]
    }
   ],
   "source": [
    "df.info()"
   ]
  },
  {
   "cell_type": "code",
   "execution_count": 6,
   "id": "c1796074-a367-444c-bceb-9ae0e3e76cce",
   "metadata": {},
   "outputs": [
    {
     "name": "stdout",
     "output_type": "stream",
     "text": [
      "--- ANÁLISE DO BALANCEAMENTO DA VARIÁVEL 'num' ---\n",
      "Contagem de cada classe:\n",
      "num\n",
      "0    411\n",
      "1    265\n",
      "2    109\n",
      "3    107\n",
      "4     28\n",
      "Name: count, dtype: int64\n"
     ]
    }
   ],
   "source": [
    "# Análise do Balanceamento da coluna target 'num'\n",
    "print(\"--- ANÁLISE DO BALANCEAMENTO DA VARIÁVEL 'num' ---\")\n",
    "target_counts = df['num'].value_counts()\n",
    "print(\"Contagem de cada classe:\")\n",
    "print(target_counts)"
   ]
  },
  {
   "cell_type": "code",
   "execution_count": 7,
   "id": "4cc547f2-4eb4-4532-9470-e70a47a38830",
   "metadata": {},
   "outputs": [
    {
     "name": "stdout",
     "output_type": "stream",
     "text": [
      "\\Proporção de cada classe (%):\n",
      "num\n",
      "0    44.67 %\n",
      "1     28.8 %\n",
      "2    11.85 %\n",
      "3    11.63 %\n",
      "4     3.04 %\n",
      "Name: proportion, dtype: object\n"
     ]
    }
   ],
   "source": [
    "# Checando a proporção\n",
    "print(\"\\Proporção de cada classe (%):\")\n",
    "print(df['num'].value_counts(normalize=True).mul(100).round(2).astype(str) + ' %')"
   ]
  },
  {
   "cell_type": "code",
   "execution_count": 8,
   "id": "8486ff08-7e48-404d-a4d3-bf33d6a54dae",
   "metadata": {},
   "outputs": [
    {
     "data": {
      "image/png": "[encoded data removed]",
      "text/plain": [
       "<Figure size 800x600 with 1 Axes>"
      ]
     },
     "metadata": {},
     "output_type": "display_data"
    }
   ],
   "source": [
    "# Visualização\n",
    "plt.figure(figsize=(8, 6))\n",
    "sns.countplot(x='num', data=df, palette='viridis', hue='num', legend=False)\n",
    "plt.title('Distribuição das Classes Antes do Balanceamento')\n",
    "plt.xlabel('Classe (0 = Ausência, 1 = Presença de Doença Cardíaca)')\n",
    "plt.ylabel('Contagem')\n",
    "plt.show()"
   ]
  },
  {
   "cell_type": "code",
   "execution_count": 9,
   "id": "9e2342ca-2d27-495b-a3de-b4840c8fa0f4",
   "metadata": {},
   "outputs": [
    {
     "name": "stdout",
     "output_type": "stream",
     "text": [
      "Proporção de cada classe (%):\n",
      "num\n",
      "0    44.67 %\n",
      "1     28.8 %\n",
      "2    11.85 %\n",
      "3    11.63 %\n",
      "4     3.04 %\n",
      "Name: proportion, dtype: object\n",
      "\n",
      "Diferença entre a maior e a menor classe: 41.63 %\n"
     ]
    }
   ],
   "source": [
    "# Distribuição em %\n",
    "proporcoes = df['num'].value_counts(normalize=True) * 100\n",
    "\n",
    "# Diferença entre a maior e a menor classe\n",
    "diferenca1 = proporcoes.max() - proporcoes.min()\n",
    "\n",
    "print(\"Proporção de cada classe (%):\")\n",
    "print(proporcoes.round(2).astype(str) + \" %\")\n",
    "\n",
    "print(f\"\\nDiferença entre a maior e a menor classe: {diferenca1:.2f} %\")"
   ]
  },
  {
   "cell_type": "markdown",
   "id": "3ae3cc20-cb61-460a-bc6e-6ae914e953a2",
   "metadata": {},
   "source": [
    "### **Conclusão**:  Os dados estão desbalanceados\n",
    "\n",
    "\n",
    "A distribuição de classes que você apresentou é a seguinte:\n",
    "\n",
    "* **Classe 0 (sem doença)**: 411 -> 44,67%\n",
    "* **Classe 1 (leve)**: 265 -> 28,8%\n",
    "* **Classe 2 (moderada)**: 109 -> 11,85%\n",
    "* **Classe 3 (grave)**: 107 -> 11,63%\n",
    "* **Classe 4 (severa)**-: 28 -> 3,04%\n",
    "\n",
    "**OBS: Diferença entre a maior e a menor classe: 41.63 %**"
   ]
  },
  {
   "cell_type": "markdown",
   "id": "4eba895a-e57f-4747-bc90-2ab5fc94bf20",
   "metadata": {},
   "source": [
    "# **Estratégias de Tratamento**\n",
    "\n",
    "São duas principais abordagens:\n",
    "\n",
    "1. **Redistribuir as classes**\n",
    "2. **Aplicar técnicas de balanceamento** como:\n",
    "  * **Undersampling**: Reduzir dados da classe majoritária\n",
    "  * **Oversampling**: Aumentar dados da classe minoritária (ex: SMOTE, ADASYN)\n",
    "  * **Técnicas de ponderação de classes (Cost-Sensitive Learning)**: Atribuir pesos diferentes às classes"
   ]
  },
  {
   "cell_type": "markdown",
   "id": "bb7b76b1-2594-485f-bbb7-c20e89f089f2",
   "metadata": {},
   "source": [
    "## **1. Redistribuição das classes**"
   ]
  },
  {
   "cell_type": "markdown",
   "id": "2c1b41da-25a1-4486-9bc5-c5dfb0a2b8e3",
   "metadata": {},
   "source": [
    "## **Proposta de redistribuição das classes**:\n",
    "\n",
    "A nova distribuição fica:\n",
    "\n",
    "* **Classe 0 (sem doença cardíaca)**: 411 instâncias -> 44,67% \n",
    "\n",
    "* **Classe 1 (leve-moderada-grave-severa = presença de doença cardíaca)**: 509 instâncias (265 + 109 + 107 + 28) -> 55,33%"
   ]
  },
  {
   "cell_type": "markdown",
   "id": "161bfd8b-4eb8-4315-87a1-2cd804512e6e",
   "metadata": {},
   "source": [
    "**Nota sobre o pré-processamento**: \n",
    "Para a variável-alvo, todas as classes, exceto 0, foram convertidas para 1. Isso simplifica o problema para uma tarefa de classificação binária: 0 = sem doença cardíaca, 1 = presença de doença cardíaca."
   ]
  },
  {
   "cell_type": "code",
   "execution_count": 10,
   "id": "1ce62aee-7eb0-4a94-88d2-3564c17743e7",
   "metadata": {},
   "outputs": [],
   "source": [
    "# Reagrupamento da coluna 'num'\n",
    "df = df.assign(\n",
    "    num_reag = df['num'].map({\n",
    "        0: 0,       # sem doença\n",
    "        1: 1, 2: 1, 3: 1, 4: 1  #  # leve + moderada + grave + severa\n",
    "    }).astype('category')\n",
    ")"
   ]
  },
  {
   "cell_type": "code",
   "execution_count": 11,
   "id": "943a2be3-a8fd-4e45-b0ca-03d3f1b7506d",
   "metadata": {},
   "outputs": [
    {
     "name": "stdout",
     "output_type": "stream",
     "text": [
      "Distribuição das novas classes:\n",
      "num_reag\n",
      "0    411\n",
      "1    509\n",
      "Name: count, dtype: int64\n"
     ]
    }
   ],
   "source": [
    "# Contagem absoluta\n",
    "print(\"Distribuição das novas classes:\")\n",
    "print(df['num_reag'].value_counts().sort_index())"
   ]
  },
  {
   "cell_type": "code",
   "execution_count": 12,
   "id": "23b25c44-2498-44bf-abe2-d431198a3489",
   "metadata": {},
   "outputs": [
    {
     "name": "stdout",
     "output_type": "stream",
     "text": [
      "\n",
      "Distribuição em porcentagem:\n",
      "num_reag\n",
      "1    55.33 %\n",
      "0    44.67 %\n",
      "Name: proportion, dtype: object\n"
     ]
    }
   ],
   "source": [
    "# Contagem percentual\n",
    "print(\"\\nDistribuição em porcentagem:\")\n",
    "print((df['num_reag'].value_counts(normalize=True) * 100).round(2).astype(str) + \" %\")"
   ]
  },
  {
   "cell_type": "code",
   "execution_count": 13,
   "id": "5236f9e1-3b01-4a60-bbd2-aef7d2e77fb1",
   "metadata": {},
   "outputs": [
    {
     "name": "stdout",
     "output_type": "stream",
     "text": [
      "Proporção de cada classe (%):\n",
      "num_reag\n",
      "1    55.33 %\n",
      "0    44.67 %\n",
      "Name: proportion, dtype: object\n",
      "\n",
      "Diferença entre a maior e a menor classe: 10.65 %\n"
     ]
    }
   ],
   "source": [
    "# Distribuição em %\n",
    "proporcoes = df['num_reag'].value_counts(normalize=True) * 100\n",
    "\n",
    "# Diferença entre a maior e a menor classe\n",
    "diferenca_2 = proporcoes.max() - proporcoes.min()\n",
    "\n",
    "print(\"Proporção de cada classe (%):\")\n",
    "print(proporcoes.round(2).astype(str) + \" %\")\n",
    "\n",
    "print(f\"\\nDiferença entre a maior e a menor classe: {diferenca_2:.2f} %\")"
   ]
  },
  {
   "cell_type": "code",
   "execution_count": 14,
   "id": "f2ddc335-4e1c-4c74-b3f1-cccfb3aad824",
   "metadata": {},
   "outputs": [
    {
     "name": "stdout",
     "output_type": "stream",
     "text": [
      "Diferença (num original): 41.63 %\n",
      "Diferença (num reagrupado): 10.65 %\n",
      "Redução da diferença: 30.98 %\n"
     ]
    }
   ],
   "source": [
    "# Diferença original\n",
    "prop1 = df['num'].value_counts(normalize=True) * 100\n",
    "diferenca1 = prop1.max() - prop1.min()\n",
    "\n",
    "# Diferença reagrupada\n",
    "prop2 = df['num_reag'].value_counts(normalize=True) * 100\n",
    "diferenca2 = prop2.max() - prop2.min()\n",
    "\n",
    "# Comparação\n",
    "print(f\"Diferença (num original): {diferenca1:.2f} %\")\n",
    "print(f\"Diferença (num reagrupado): {diferenca2:.2f} %\")\n",
    "print(f\"Redução da diferença: {diferenca1 - diferenca2:.2f} %\")"
   ]
  },
  {
   "cell_type": "markdown",
   "id": "14326bf2-8424-45e9-8eaa-b3c6c587c400",
   "metadata": {},
   "source": [
    "### **Vantagens desta Abordagem**\n",
    "* **Redução Drástica do Desbalanceamento**: O principal problema, que era a classe 4 com apenas 28 amostras, foi resolvido. A proporção entre a maior e a menor classe caiu de 41,63% para 10,65%\n",
    "* **Simplificação do Problema**: Modelos de classificação geralmente têm mais facilidade para aprender com menos classes. Um problema de 2 classes é mais simples e, muitas vezes, leva a um modelo com melhor desempenho geral (acurácia, F1-score, etc.).\n",
    "**Lógica de Negócio/Clínica**: A união das classes pode fazer muito sentido do ponto de vista prático. Por exemplo, talvez o protocolo clínico para pacientes com doença \"leve\" e \"moderada\" seja similar (ex: acompanhamento e medicação). Da mesma forma, pacientes com quadros \"grave\" e \"severo\" podem ambos ser classificados como de \"alto risco\", requerendo intervenção imediata.\n",
    "**Técnicas de Balanceamento se Tornam Mais Eficazes**: Aplicar SMOTE para aumentar uma classe de 135 amostras é muito mais seguro e eficaz do que aplicá-lo em uma classe com apenas 28. A chance de gerar ruído é menor."
   ]
  },
  {
   "cell_type": "markdown",
   "id": "42d02cdd-ddb1-4277-91f9-996277001087",
   "metadata": {},
   "source": [
    "### **Desvantagens desta Abordagem**\n",
    "* **Perda de Granularidade**: Esta é a principal desvantagem. O modelo perderá a capacidade de diferenciar entre um caso \"grave\" e um \"severo\". Se o objetivo final do projeto fosse, por exemplo, priorizar leitos de UTI especificamente para os casos \"severos\", essa informação seria perdida. A decisão de agrupar as classes depende diretamente do objetivo do negócio ou da aplicação clínica."
   ]
  },
  {
   "cell_type": "markdown",
   "id": "e6471cdc-d989-4b2f-9a75-f494830ee843",
   "metadata": {},
   "source": [
    "## 2. **Aplicar técnicas de balanceamento**"
   ]
  },
  {
   "cell_type": "markdown",
   "id": "59b4a89f-4340-45a9-8ac8-ff038f5391eb",
   "metadata": {},
   "source": [
    "\n",
    "Com essa nova distribuição (411, 374, 135), o problema de desbalanceamento ainda existe, mas é muito mais simples.\n",
    "O objetivo é fazer com que a classe 2 com 135 instâncias fique o mais perto possível da classe 1 com 374 instâncias. \n",
    "\n",
    "**Qual seria a melhor estratégia de balanceamento agora?**\n",
    "\n",
    "  * **Undersampling**: Reduzir dados da classe majoritária\n",
    "  * **Oversampling**: Aumentar dados da classe minoritária (ex: SMOTE, ADASYN)\n",
    "  * **Técnicas de ponderação de classes (Cost-Sensitive Learning)**: Atribuir pesos diferentes às classes"
   ]
  },
  {
   "cell_type": "markdown",
   "id": "8120d86a-bb80-4a48-a0be-5c1e3e67210e",
   "metadata": {},
   "source": [
    "**Decisão**\n",
    "- **Undersampling** - **Não**, pois não vamos reduzir dados da classe majoritária.\n",
    "- **Opção 1 - Ponderação de Classe (Cost-Sensitive Learning)** -  Usar o parâmetro class_weight='balanced' no modelo, pois o algoritmo terá exemplos suficientes da classe (2) \"grave-severa\" para aprender suas características, e a ponderação ajudará a garantir que ele preste a devida atenção a ela.\n",
    "- **Opção 2 - Oversampling com SMOTE** - Aplicar SMOTE apenas na Classe 2 (grave-severa) para aumentar as amostras de 135 para um número próximo ao das outras classes (~370). Isso criará um conjunto de dados quase perfeitamente balanceado e, como a base de amostras (135) é sólida, a qualidade dos dados sintéticos gerados tende a ser alta."
   ]
  },
  {
   "cell_type": "markdown",
   "id": "98a6d351-09bc-4e51-993e-f97bfd8aea47",
   "metadata": {},
   "source": [
    "### Importante: \n",
    "* Ambas as técnicas devem ser aplicadas apenas no conjunto de dados de treinamento. O conjunto de teste deve ser mantido com a distribuição original para que você possa avaliar o desempenho real do modelo em dados do mundo real. (Estas técnicas serão aplicadas na etapa de Divisão dos Dados)"
   ]
  },
  {
   "cell_type": "code",
   "execution_count": 15,
   "id": "546d47d2-fc68-415c-b60c-608c53f4c73f",
   "metadata": {},
   "outputs": [
    {
     "name": "stdout",
     "output_type": "stream",
     "text": [
      "<class 'pandas.core.frame.DataFrame'>\n",
      "RangeIndex: 920 entries, 0 to 919\n",
      "Data columns (total 15 columns):\n",
      " #   Column    Non-Null Count  Dtype   \n",
      "---  ------    --------------  -----   \n",
      " 0   id        920 non-null    int64   \n",
      " 1   age       920 non-null    int64   \n",
      " 2   sex       920 non-null    object  \n",
      " 3   dataset   920 non-null    object  \n",
      " 4   cp        920 non-null    object  \n",
      " 5   trestbps  920 non-null    float64 \n",
      " 6   chol      920 non-null    float64 \n",
      " 7   fbs       920 non-null    bool    \n",
      " 8   restecg   920 non-null    object  \n",
      " 9   thalch    920 non-null    float64 \n",
      " 10  exang     920 non-null    bool    \n",
      " 11  oldpeak   920 non-null    float64 \n",
      " 12  slope     920 non-null    object  \n",
      " 13  num       920 non-null    int64   \n",
      " 14  num_reag  920 non-null    category\n",
      "dtypes: bool(2), category(1), float64(4), int64(3), object(5)\n",
      "memory usage: 89.2+ KB\n"
     ]
    }
   ],
   "source": [
    "df.info()"
   ]
  },
  {
   "cell_type": "code",
   "execution_count": 16,
   "id": "4222cd9e-a991-4665-b567-fe39d9e1de92",
   "metadata": {},
   "outputs": [],
   "source": [
    "# Inicializar df_final como uma cópia de df\n",
    "df_final = df.copy()"
   ]
  },
  {
   "cell_type": "code",
   "execution_count": 17,
   "id": "c968f66c-f0fc-4a05-958c-09875209496d",
   "metadata": {},
   "outputs": [
    {
     "name": "stdout",
     "output_type": "stream",
     "text": [
      "DataFrame foi salvo com sucesso no arquivo: 'heart_disease_uci_tratado_3.csv'\n"
     ]
    }
   ],
   "source": [
    "# Definir o nome do arquivo de saída\n",
    "nome_do_arquivo = 'heart_disease_uci_tratado_3.csv'\n",
    "\n",
    "# Salvar o DataFrame em CSV, sem o índice e com codificação UTF-8\n",
    "df_final.to_csv(nome_do_arquivo, index=False, encoding='utf-8')\n",
    "\n",
    "# 3. Imprimir uma mensagem de confirmação\n",
    "print(f\"DataFrame foi salvo com sucesso no arquivo: '{nome_do_arquivo}'\")"
   ]
  },
  {
   "cell_type": "code",
   "execution_count": 18,
   "id": "13969160-1389-401a-945e-e3745f70a5ae",
   "metadata": {},
   "outputs": [],
   "source": [
    "# Carregando a extensão watermark\n",
    "%reload_ext watermark"
   ]
  },
  {
   "cell_type": "code",
   "execution_count": 19,
   "id": "9644b724-ef48-425b-847a-6d38eda18368",
   "metadata": {},
   "outputs": [
    {
     "name": "stdout",
     "output_type": "stream",
     "text": [
      "Author: Patrick F. R. Ribeiro\n",
      "\n",
      "Python implementation: CPython\n",
      "Python version       : 3.13.5\n",
      "IPython version      : 8.30.0\n",
      "\n",
      "Compiler    : MSC v.1929 64 bit (AMD64)\n",
      "OS          : Windows\n",
      "Release     : 11\n",
      "Machine     : AMD64\n",
      "Processor   : Intel64 Family 6 Model 140 Stepping 1, GenuineIntel\n",
      "CPU cores   : 8\n",
      "Architecture: 64bit\n",
      "\n",
      "sklearn   : 1.6.1\n",
      "seaborn   : 0.13.2\n",
      "pandas    : 2.2.3\n",
      "imblearn  : 0.14.0\n",
      "matplotlib: 3.10.0\n",
      "\n"
     ]
    }
   ],
   "source": [
    "# Imprimir\n",
    "# -a (autor do projeto)\n",
    "# -d (data)\n",
    "# -t (hora)\n",
    "# -v (versões do Python e do IPython)\n",
    "# -m (informações sobre a máquina (hardware e sistema operacional))\n",
    "#--iversions (versões de pacotes importadas (import))\n",
    "%watermark -n -a \"Patrick F. R. Ribeiro\" -d -t -v -m --iversions"
   ]
  }
 ],
 "metadata": {
  "kernelspec": {
   "display_name": "Python 3 (ipykernel)",
   "language": "python",
   "name": "python3"
  },
  "language_info": {
   "codemirror_mode": {
    "name": "ipython",
    "version": 3
   },
   "file_extension": ".py",
   "mimetype": "text/x-python",
   "name": "python",
   "nbconvert_exporter": "python",
   "pygments_lexer": "ipython3",
   "version": "3.13.5"
  }
 },
 "nbformat": 4,
 "nbformat_minor": 5
}
