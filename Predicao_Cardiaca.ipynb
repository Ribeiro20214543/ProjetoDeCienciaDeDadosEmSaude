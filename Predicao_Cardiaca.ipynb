{
 "cells": [
  {
   "cell_type": "markdown",
   "id": "bad438fb-15c5-4470-8719-a6c961bfb1aa",
   "metadata": {},
   "source": [
    "# PREVISÃO DE DOENÇA CARDIÁCA PARA NOVOS PACIENTES"
   ]
  },
  {
   "cell_type": "code",
   "execution_count": 1,
   "id": "d31950c7-1824-44fc-a958-fa9387666ec0",
   "metadata": {},
   "outputs": [],
   "source": [
    "import joblib\n",
    "import pandas as pd\n",
    "import numpy as np"
   ]
  },
  {
   "cell_type": "code",
   "execution_count": 2,
   "id": "257ff3e3-cec9-4269-b383-3ee2193f9e38",
   "metadata": {},
   "outputs": [],
   "source": [
    "import warnings\n",
    "warnings.filterwarnings(\"ignore\", message=\"X does not have valid feature names\")"
   ]
  },
  {
   "cell_type": "code",
   "execution_count": 3,
   "id": "50c2691e-c06d-4606-8d46-2e8ad54c3bd8",
   "metadata": {},
   "outputs": [],
   "source": [
    "# Carregar o pré-processador e o modelo salvos\n",
    "preprocessor = joblib.load(\"preprocessor.joblib\")\n",
    "model = joblib.load(\"svm_model_smote.joblib\")"
   ]
  },
  {
   "cell_type": "code",
   "execution_count": 4,
   "id": "47464235-5735-41be-a524-b1b3ed81dcc5",
   "metadata": {},
   "outputs": [],
   "source": [
    "# Identificar as colunas originais (antes do One-Hot Encoding)\n",
    "ordem_colunas_raw = [\n",
    "    'age', 'trestbps', 'chol', 'thalch', 'oldpeak',  # Numéricas\n",
    "    'sex', 'dataset', 'cp', 'fbs', 'restecg', 'exang', 'slope' # Categóricas\n",
    "]"
   ]
  },
  {
   "cell_type": "code",
   "execution_count": 5,
   "id": "3bd35126-288e-4ae2-9dc2-4e7b03fabc01",
   "metadata": {},
   "outputs": [],
   "source": [
    "# Preparar os dados do novo paciente (em formato BRUTO)\n",
    "# Use os valores de texto/categoria originais que o seu pré-processador espera.\n",
    "dados_novo_paciente_raw = {\n",
    "    'age': [63],\n",
    "    'trestbps': [145],\n",
    "    'chol': [233],\n",
    "    'thalch': [150],\n",
    "    'oldpeak': [2.3],\n",
    "    'sex': ['Male'],\n",
    "    'dataset': ['Cleveland'], \n",
    "    'cp': ['typical angina'],\n",
    "    'fbs': [True],    \n",
    "    'restecg': ['st-t abnormality'],\n",
    "    'exang': [True],   \n",
    "    'slope': ['flat']\n",
    "}"
   ]
  },
  {
   "cell_type": "code",
   "execution_count": 6,
   "id": "770a88c7-fb32-4c08-b244-a6d77f83a206",
   "metadata": {},
   "outputs": [
    {
     "name": "stdout",
     "output_type": "stream",
     "text": [
      "--- Dados Brutos do Paciente ---\n",
      "   age  trestbps  chol  thalch  oldpeak   sex    dataset              cp  \\\n",
      "0   63       145   233     150      2.3  Male  Cleveland  typical angina   \n",
      "\n",
      "    fbs           restecg  exang slope  \n",
      "0  True  st-t abnormality   True  flat  \n"
     ]
    }
   ],
   "source": [
    "# Criar um DataFrame com os dados brutos, garantindo a ordem correta das colunas\n",
    "paciente_df_raw = pd.DataFrame(dados_novo_paciente_raw, columns=ordem_colunas_raw)\n",
    "\n",
    "print(\"--- Dados Brutos do Paciente ---\")\n",
    "print(paciente_df_raw)"
   ]
  },
  {
   "cell_type": "code",
   "execution_count": 7,
   "id": "fb1dbb0f-016c-4299-88b1-2e98f56969bf",
   "metadata": {},
   "outputs": [],
   "source": [
    "# Transformar os dados usando o pré-processador\n",
    "# Ele aplicará a escala e o one-hot encoding para gerar as colunas.\n",
    "paciente_transformado = preprocessor.transform(paciente_df_raw)"
   ]
  },
  {
   "cell_type": "code",
   "execution_count": 8,
   "id": "b60bcb81-e08c-44f2-a120-2987630b3480",
   "metadata": {},
   "outputs": [],
   "source": [
    "# Fazer a predição com o modelo usando os dados TRANSFORMADOS\n",
    "predicao = model.predict(paciente_transformado)\n",
    "probabilidades = model.predict_proba(paciente_transformado)\n",
    "prob_doenca = probabilidades[0][1]"
   ]
  },
  {
   "cell_type": "code",
   "execution_count": 9,
   "id": "e8440d35-f3da-40b0-b830-f85d50e8e305",
   "metadata": {},
   "outputs": [
    {
     "name": "stdout",
     "output_type": "stream",
     "text": [
      "\n",
      "--- Diagnóstico Preditivo para Doença Cardíaca ---\n",
      "Probabilidade de Risco de Doença Cardíaca: 81.93%\n",
      "Resultado: O paciente TEM RISCO de doença cardíaca.\n"
     ]
    }
   ],
   "source": [
    "# Apresentar o resultado\n",
    "print(\"\\n--- Diagnóstico Preditivo para Doença Cardíaca ---\")\n",
    "print(f\"Probabilidade de Risco de Doença Cardíaca: {prob_doenca * 100:.2f}%\")\n",
    "\n",
    "if predicao[0] == 1:\n",
    "    print(\"Resultado: O paciente TEM RISCO de doença cardíaca.\")\n",
    "else:\n",
    "    print(\"Resultado: O paciente NÃO TEM RISCO de doença cardíaca.\")"
   ]
  }
 ],
 "metadata": {
  "kernelspec": {
   "display_name": "Python 3 (ipykernel)",
   "language": "python",
   "name": "python3"
  },
  "language_info": {
   "codemirror_mode": {
    "name": "ipython",
    "version": 3
   },
   "file_extension": ".py",
   "mimetype": "text/x-python",
   "name": "python",
   "nbconvert_exporter": "python",
   "pygments_lexer": "ipython3",
   "version": "3.13.5"
  }
 },
 "nbformat": 4,
 "nbformat_minor": 5
}
